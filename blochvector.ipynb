{
 "cells": [
  {
   "metadata": {},
   "cell_type": "markdown",
   "source": [
    "# ────────────────────────────────────────────────────────────────────────\n",
    "# 1 ▸ Imports\n",
    "# ────────────────────────────────────────────────────────────────────────"
   ],
   "id": "b104e8ba686f8c5b"
  },
  {
   "metadata": {},
   "cell_type": "code",
   "source": [
    "import numpy as np\n",
    "import matplotlib.pyplot as plt\n",
    "from matplotlib.animation import FuncAnimation"
   ],
   "id": "8cfa1b4fb77c5793",
   "outputs": [],
   "execution_count": null
  },
  {
   "metadata": {},
   "cell_type": "markdown",
   "source": [
    "\n",
    "Bloch-vector dynamics under a (possibly detuned) drive — dimensionless version\n",
    "==============================================================================\n",
    "This single script is *fully self-contained*\n",
    "We keep everything in **dimensionless time**\n",
    "\n",
    "    for expectation value : τ = T / ω_21\n",
    "    for plot we have: t = ω_21 · τ\n",
    "\n",
    "so *no numerical value for ω_21 is ever needed or used.*\n"
   ],
   "id": "6fca6a28118322c7"
  },
  {
   "metadata": {},
   "cell_type": "markdown",
   "source": [
    "# ────────────────────────────────────────────────────────────────────────\n",
    "# 2 ▸ User-editable parameters\n",
    "# ────────────────────────────────────────────────────────────────────────"
   ],
   "id": "c6762589817b23da"
  },
  {
   "metadata": {},
   "cell_type": "code",
   "source": [
    "chi_1 = 0.1  # Normalised coupling strength gama_tilde / ω_21\n",
    "\n",
    "# Study cases: each dict must contain at least \"chi_2\".\n",
    "# Optional keys \"label\" and \"color\" simply control plotting aesthetics.\n",
    "cases = [\n",
    "    {\"chi_2\": 1.0, \"label\": r\"Resonance  $\\chi_2 = 1.0$\", \"color\": \"dodgerblue\"},\n",
    "    {\"chi_2\": 0.8, \"label\": r\"Non-Resonance  $\\chi_2 = 0.8$\", \"color\": \"lime\"},\n",
    "    {\"chi_2\": 0.6, \"label\": r\"Non-Resonance  $\\chi_2 = 0.6$\", \"color\": \"orangered\"},\n",
    "]\n",
    "\n",
    "N_SAMPLES = 400  # number of τ grid points\n",
    "T = 60.0"
   ],
   "id": "8494c6da8e26421c",
   "outputs": [],
   "execution_count": null
  },
  {
   "metadata": {},
   "cell_type": "markdown",
   "source": [
    "### Translating the formulas\n",
    "| symbol               | definition                | dimensionless form used in code                                                                                                              |\n",
    "|----------------------| ------------------------- | -------------------------------------------------------------------------------------------------------------------------------------------- |\n",
    "| $\\tilde\\gamma$       | coupling strength         | $\\tilde\\gamma = \\chi_1\\,\\omega_{21}$                                                                                                              |\n",
    "| $\\omega$             | drive frequency           | $\\omega   = \\chi_2\\,\\omega_{21}$                                                                                                             |\n",
    "| $\\tilde\\omega$       | detuning                  | $\\tilde\\omega = \\omega-\\omega_{21}=\\omega_{21}\\,(\\chi_2-1)$                                                                                  |\n",
    "| $\\Omega$           | generalized frequency | $\\displaystyle\\Omega=\\sqrt{\\tilde\\gamma^{\\,2}+\\frac{\\tilde\\omega^{\\,2}}{4}}=\\omega_{21}\\sqrt{\\chi_1^{2}+\\left(\\frac{\\chi_2-1}{2}\\right)^{\\!2}}$ |\n",
    "| $r_\\alpha,\\;r_\\beta$ | weighting factors         | $\\displaystyle r_\\alpha=\\frac{\\Omega_R+\\tilde\\omega/2}{\\tilde\\gamma},\\qquad r_\\beta=\\frac{-\\Omega_R+\\tilde\\omega/2}{\\tilde\\gamma}$                 |\n"
   ],
   "id": "598114a4bf82cafc"
  },
  {
   "metadata": {},
   "cell_type": "markdown",
   "source": [
    "This function calculates the expected values of the spin components ($S_x$, $S_y$, $S_z$)\n",
    "and the total Bloch vector magnitude for given drive parameters and time points.\n",
    "\n",
    "- `t`: array of time points\n",
    "- `omega_21`: system's transition frequency\n",
    "- `gamma_tilde`: coupling strength\n",
    "- `chi_2`: drive frequency ratio\n",
    "- `Sx_R`, `Sy_R`, `Sz_R`: arrays of expectation values (rotating/Dirac frame) for each time\n",
    "- `S_magnitude`: array of total spin magnitudes (should be ~1 for pure state)\n",
    "\n",
    "Returns **laboratory-frame** Bloch components:\n",
    "\n",
    "$$\n",
    "\\begin{align*}\n",
    "S_x^\\text{lab}(t) &= \\cos(\\omega_0 t)\\, S_x^R(t) - \\sin(\\omega_0 t)\\, S_y^R(t) \\\\\n",
    "S_y^\\text{lab}(t) &= \\sin(\\omega_0 t)\\, S_x^R(t) + \\cos(\\omega_0 t)\\, S_y^R(t) \\\\\n",
    "S_z^\\text{lab}(t) &= S_z^R(t) \\\\\n",
    "\\end{align*}\n",
    "$$\n",
    "\n",
    "where $\\omega_0 = \\omega_{21}$ and $(S_x^R, S_y^R, S_z^R)$ are the Dirac-picture (rotating-frame) components."
   ],
   "id": "aa62d9a6606dc1ed"
  },
  {
   "metadata": {},
   "cell_type": "markdown",
   "source": [
    "# ────────────────────────────────────────────────────────────────────────\n",
    "# 3 ▸ Analytic Bloch-vector solution\n",
    "# ────────────────────────────────────────────────────────────────────────"
   ],
   "id": "54f8870d99b1dbed"
  },
  {
   "metadata": {},
   "cell_type": "code",
   "source": [
    "def expectation(tau: np.ndarray, chi1: float, chi2: float):\n",
    "    \"\"\"Return Sx, Sy, Sz, |⟨S⟩| arrays.\n",
    "\n",
    "    Parameters\n",
    "    ----------\n",
    "    tau  : dimensionless time array because τ = T / ω_21\n",
    "    chi1 : drive strength gama_tilde / ω_21\n",
    "    chi2 : drive-frequency / system-frequency ratio (ω / ω_21)\n",
    "    \"\"\"\n",
    "    # Generalised Rabi frequency\n",
    "    omega = np.sqrt(chi1 ** 2 + ((chi2 - 1) / 2) ** 2)  # omega = ω_21 * np.sqrt(chi_1 ** 2 + ((chi_2 - 1) / 2) ** 2)\n",
    "\n",
    "    # Dimensionless detuning\n",
    "    omega_tilde = chi2 - 1  # omega_tilde = ω_21 * (chi_2 - 1)\n",
    "\n",
    "    Sx_R = (-(chi1 / omega) * np.sin(2 * omega * tau) * np.sin(omega_tilde * tau)\n",
    "            + (chi1 * omega_tilde / omega ** 2) * np.sin(omega * tau) ** 2 * np.cos(omega_tilde * tau))\n",
    "    Sy_R = (-(chi1 / omega) * np.sin(2 * omega * tau) * np.cos(omega_tilde * tau)\n",
    "            - (chi1 * omega_tilde / omega ** 2) * np.sin(omega * tau) ** 2 * np.sin(omega_tilde * tau))\n",
    "    Sz_R = 1 - (2 * chi1 ** 2 / omega ** 2) * np.sin(omega * tau) ** 2\n",
    "\n",
    "    # Dirac pic back to the lab frame:\n",
    "    cos_tau, sin_tau = np.cos(tau), np.sin(tau)\n",
    "    Sx_lab = cos_tau * Sx_R - sin_tau * Sy_R\n",
    "    Sy_lab = sin_tau * Sx_R + cos_tau * Sy_R\n",
    "    Sz_lab = Sz_R\n",
    "\n",
    "    # (should remain ≈ 1 at all times)\n",
    "    S_mag = np.sqrt(Sx_lab ** 2 + Sy_lab ** 2 + Sz_lab ** 2)\n",
    "    return Sx_lab, Sy_lab, Sz_lab, S_mag"
   ],
   "id": "bbd5128a0b5ac539",
   "outputs": [],
   "execution_count": null
  },
  {
   "metadata": {},
   "cell_type": "markdown",
   "source": [
    "### Expectation values of the spin components (divided by ℏ/2)\n",
    "\n",
    "$$\n",
    "\\begin{aligned}\n",
    "\\langle S_x(t)\\rangle &=\n",
    "    \\frac{\\tilde{\\gamma}^{\\,2}}{\\Omega^{2}}\n",
    "    \\,\\sin(\\Omega t)\\!\n",
    "    \\bigl[\n",
    "        r_\\beta\\,\\sin\\!\\bigl((\\Omega+\\tilde{\\omega})t\\bigr)\n",
    "      + r_\\alpha\\,\\sin\\!\\bigl((\\Omega-\\tilde{\\omega})t\\bigr)\n",
    "    \\bigr],\\\\[6pt]\n",
    "\\end{aligned}\n",
    "$$\n",
    "\n",
    "$$\n",
    "\\langle S_x(t)\\rangle \\;=\\;\n",
    "-\\,\\frac{\\tilde{\\gamma}}{\\Omega}\\,\n",
    "    \\sin\\!\\bigl(2\\Omega t\\bigr)\\,\\sin(\\tilde{\\omega} t)\n",
    "\\;+\\;\n",
    "\\frac{\\tilde{\\gamma}\\,\\tilde{\\omega}}{\\Omega^{2}}\\,\n",
    "    \\sin^{2}(\\Omega t)\\,\\cos(\\tilde{\\omega} t)\n",
    "$$\n",
    "\n",
    "$$\n",
    "\\begin{aligned}\n",
    "\\langle S_y(t)\\rangle &=\n",
    "    \\frac{\\tilde{\\gamma}^{\\,2}}{\\Omega^{2}}\n",
    "    \\,\\sin(\\Omega t)\\!\n",
    "    \\bigl[\n",
    "        r_\\beta\\,\\cos\\!\\bigl((\\Omega+\\tilde{\\omega})t\\bigr)\n",
    "      - r_\\alpha\\,\\cos\\!\\bigl((\\Omega-\\tilde{\\omega})t\\bigr)\n",
    "    \\bigr],\\\\[6pt]\n",
    "\\end{aligned}\n",
    "$$\n",
    "\n",
    "$$\n",
    "\\langle S_y(t)\\rangle \\;=\\;\n",
    "-\\,\\frac{\\tilde{\\gamma}}{\\Omega}\\,\n",
    "    \\sin\\!\\bigl(2\\Omega t\\bigr)\\,\\cos(\\tilde{\\omega} t)\n",
    "\\;-\\;\n",
    "\\frac{\\tilde{\\gamma}\\,\\tilde{\\omega}}{\\Omega^{2}}\\,\n",
    "    \\sin^{2}(\\Omega t)\\,\\sin(\\tilde{\\omega} t)\n",
    "$$\n",
    "\n",
    "$$\n",
    "\\langle S_z(t)\\rangle \\;=\\;\n",
    "1 \\;-\\;\n",
    "\\frac{2\\,\\tilde{\\gamma}^{2}}{\\Omega^{2}}\\,\n",
    "    \\sin^{2}(\\Omega t)\n",
    "$$\n",
    "\n",
    "### total spin magnitude:\n",
    "\n",
    "$$\n",
    "\\bigl|\\langle \\mathbf{S}(t)\\rangle\\bigr|\n",
    "  \\;=\\;\n",
    "  \\sqrt{\\,\n",
    "        \\langle S_x(t)\\rangle^{2}\n",
    "      + \\langle S_y(t)\\rangle^{2}\n",
    "      + \\langle S_z(t)\\rangle^{2}\\,}.\n",
    "$$\n",
    "\n",
    "\n",
    "\n",
    "\n",
    "\n",
    "\n"
   ],
   "id": "82beda10ec0be528"
  },
  {
   "metadata": {},
   "cell_type": "markdown",
   "source": [
    "# ──────────────────────────────────────────────────────────────────────────\n",
    "# 4 ▸ Compute trajectories for every case\n",
    "# ──────────────────────────────────────────────────────────────────────────"
   ],
   "id": "6778123295d0eda6"
  },
  {
   "metadata": {},
   "cell_type": "code",
   "source": [
    "def compute_bloch_evolution(\n",
    "        chi1: float,\n",
    "        cases: list,\n",
    "        n_samples: int = N_SAMPLES,\n",
    "        T: float = T,\n",
    "):\n",
    "    # Build the master τ axis\n",
    "    tau = np.linspace(0.0, T, n_samples)\n",
    "\n",
    "    results = []\n",
    "    for case in cases:\n",
    "        chi2 = case[\"chi_2\"]\n",
    "        Sx, Sy, Sz, S_mag = expectation(tau, chi1, chi2)\n",
    "\n",
    "        # Bundle everything in a dict for convenience later\n",
    "        results.append({\n",
    "            \"chi_2\": chi2,\n",
    "            \"Sx_lab\": Sx,\n",
    "            \"Sy_lab\": Sy,\n",
    "            \"Sz_lab\": Sz,\n",
    "            \"S_magnitude\": S_mag,\n",
    "            \"label\": case.get(\"label\", f\"chi_2 = {chi2:.1g}\"),\n",
    "            \"color\": case.get(\"color\", None),\n",
    "        })\n",
    "    return tau, results\n"
   ],
   "id": "431c4a883b52cc41",
   "outputs": [],
   "execution_count": null
  },
  {
   "metadata": {},
   "cell_type": "markdown",
   "source": [
    "# ────────────────────────────────────────────────────────────────────────\n",
    "# 5 ▸ Numerical run\n",
    "# ────────────────────────────────────────────────────────────────────────"
   ],
   "id": "87f7d454bdc63fa0"
  },
  {
   "metadata": {},
   "cell_type": "code",
   "outputs": [],
   "execution_count": null,
   "source": [
    "tau, results = compute_bloch_evolution(chi_1, cases)\n",
    "for r in results:\n",
    "    print(f\" chi_2 = {r['chi_2']:<4} mean |⟨S⟩| = {np.mean(r['S_magnitude']):.1f}\")"
   ],
   "id": "166693c13dff6106"
  },
  {
   "metadata": {},
   "cell_type": "markdown",
   "source": [
    "# ────────────────────────────────────────────────────────────────────────\n",
    "# 6 ▸ Static figure: time-series + empty Bloch sphere\n",
    "# ────────────────────────────────────────────────────────────────────────"
   ],
   "id": "811a6340469afe7"
  },
  {
   "metadata": {},
   "cell_type": "code",
   "outputs": [],
   "execution_count": null,
   "source": [
    "# Creates a 2×2 grid of subplots:\n",
    "#   Notice: we have : t = ω_21 · τ\n",
    "#   (0,0) Sx(ω_21 . τ)   (0,1) Sy(ω_21 . τ)\n",
    "#   (1,0) Sz(ω_21 . τ)   (1,1) Bloch sphere (3-D)\n",
    "# ------------------------------------------------------------------------\n",
    "\n",
    "fig = plt.figure(figsize=(14, 10))\n",
    "ax1 = fig.add_subplot(221)  # Sx(ω_21 . τ)\n",
    "ax2 = fig.add_subplot(222)  # Sy(ω_21 . τ)\n",
    "ax3 = fig.add_subplot(223)  # Sz(ω_21 . τ)\n",
    "ax4 = fig.add_subplot(224, projection=\"3d\")  # Bloch sphere\n",
    "\n",
    "# Plot each component vs  ω_21 · τ :\n",
    "# for plot we have: t = ω_21 · τ = ω21 · ( T / ω_21 ) = T\n",
    "for r in results:\n",
    "    ax1.plot(tau, r[\"Sx_lab\"], label=r[\"label\"], color=r[\"color\"])\n",
    "    ax2.plot(tau, r[\"Sy_lab\"], label=r[\"label\"], color=r[\"color\"])\n",
    "    ax3.plot(tau, r[\"Sz_lab\"], label=r[\"label\"], color=r[\"color\"])\n",
    "\n",
    "# Niceties: labels, titles, grids\n",
    "for ax, ylabel, title in [\n",
    "    (ax1, r\"$\\langle S_x \\rangle / \\hbar/2$\", r\"$\\langle S_x \\rangle / \\hbar/2$\"\" vs ω₍₂₁₎ τ\"),\n",
    "    (ax2, r\"$\\langle S_y \\rangle / \\hbar/2$\", r\"$\\langle S_y \\rangle / \\hbar/2$\"\" vs ω₍₂₁₎ τ\"),\n",
    "    (ax3, r\"$\\langle S_z \\rangle / \\hbar/2$\", r\"$\\langle S_z \\rangle / \\hbar/2$\"\" vs ω₍₂₁₎ τ\"),\n",
    "]:\n",
    "    ax.set_xlabel(\"Dimensionless time   t = ω₍₂₁₎ τ\")\n",
    "    ax.set_ylabel(ylabel, rotation=0, labelpad=12)\n",
    "    ax.set_title(title)\n",
    "    ax.grid(ls=\"--\", alpha=0.7)\n",
    "\n",
    "# Moving guidelines (one per subplot) — updated during animation\n",
    "vline1 = ax1.axvline(tau[0], color=\"k\", ls=\"--\")\n",
    "vline2 = ax2.axvline(tau[0], color=\"k\", ls=\"--\")\n",
    "vline3 = ax3.axvline(tau[0], color=\"k\", ls=\"--\")"
   ],
   "id": "ea1292960fc74d8d"
  },
  {
   "metadata": {},
   "cell_type": "markdown",
   "source": [
    "# ────────────────────────────────────────────────────────────────────────\n",
    "# 7 ▸ Bloch sphere scaffolding\n",
    "# ────────────────────────────────────────────────────────────────────────"
   ],
   "id": "f1edc2d01ec028cb"
  },
  {
   "metadata": {},
   "cell_type": "code",
   "outputs": [],
   "execution_count": null,
   "source": [
    "# Reference sphere\n",
    "u = np.linspace(0, 2 * np.pi, 40)\n",
    "v = np.linspace(0, np.pi, 40)\n",
    "xs = np.outer(np.cos(u), np.sin(v))\n",
    "ys = np.outer(np.sin(u), np.sin(v))\n",
    "zs = np.outer(np.ones_like(u), np.cos(v))\n",
    "ax4.plot_surface(xs, ys, zs, color=\"bisque\", alpha=0.3, rstride=1, cstride=1)\n",
    "ax4.set_xticks([-1, -0.5, 0, 0.5, 1])\n",
    "ax4.set_yticks([-1, -0.5, 0, 0.5, 1])\n",
    "ax4.set_zticks([-1, -0.5, 0, 0.5, 1])\n",
    "ax4.set_xlabel(r\"$\\langle S_x \\rangle / \\hbar/2$\");\n",
    "ax4.set_ylabel(r\"$\\langle S_y \\rangle / \\hbar/2$\");\n",
    "ax4.set_zlabel(r\"$\\langle S_z \\rangle / \\hbar/2$\")\n",
    "ax4.set_title(\"Bloch-vector trajectory\", pad=10)\n",
    "\n",
    "traj_lines, vec_lines = [], []\n",
    "for r in results:\n",
    "    # 3-D line for the *full path* as it grows with time\n",
    "    traj, = ax4.plot([], [], [], lw=1.4, color=r[\"color\"], label=r[\"label\"])\n",
    "    # 3-D thicker line for the *instantaneous state arrow*\n",
    "    vec, = ax4.plot([], [], [], lw=2.2, color=r[\"color\"])\n",
    "    traj_lines.append(traj)\n",
    "    vec_lines.append(vec)\n",
    "ax4.legend(frameon=False, loc=\"upper center\", ncol=len(results))"
   ],
   "id": "4fbd0cb2aa611cda"
  },
  {
   "metadata": {},
   "cell_type": "markdown",
   "source": [
    "# ────────────────────────────────────────────────────────────────────────\n",
    "# 8 ▸ Animation driver + file output\n",
    "# ────────────────────────────────────────────────────────────────────────"
   ],
   "id": "36a394b09520e29c"
  },
  {
   "metadata": {},
   "cell_type": "code",
   "outputs": [],
   "execution_count": null,
   "source": [
    "def animate(frame: int):\n",
    "    # Update every case\n",
    "    for traj, vec, r in zip(traj_lines, vec_lines, results):\n",
    "        traj.set_data(r[\"Sx_lab\"][:frame + 1], r[\"Sy_lab\"][:frame + 1])\n",
    "        traj.set_3d_properties(r[\"Sz_lab\"][:frame + 1])\n",
    "        vec.set_data([0, r[\"Sx_lab\"][frame]], [0, r[\"Sy_lab\"][frame]])\n",
    "        vec.set_3d_properties([0, r[\"Sz_lab\"][frame]])\n",
    "\n",
    "    # Slide vertical lines on the time-series plots\n",
    "    current_tau = tau[frame]\n",
    "    for vline in (vline1, vline2, vline3):\n",
    "        vline.set_xdata([current_tau, current_tau])\n",
    "\n",
    "    return traj_lines + vec_lines + [vline1, vline2, vline3]\n",
    "\n",
    "\n",
    "# Create animation object\n",
    "frames = len(tau)\n",
    "ani = FuncAnimation(fig, animate, frames=frames, interval=100, blit=True)\n",
    "\n",
    "# Layout and export\n",
    "plt.tight_layout()\n",
    "fig.savefig(\"bloch_vector_evolution_dimless.png\", dpi=150)\n",
    "ani.save(\"bloch_vector_evolution_dimless.gif\", writer=\"pillow\", dpi=150)\n",
    "print(\"Saved PNG and GIF (dimensionless version).\")"
   ],
   "id": "89afb4657b363ed8"
  }
 ],
 "metadata": {
  "kernelspec": {
   "display_name": "Python 3",
   "language": "python",
   "name": "python3"
  },
  "language_info": {
   "codemirror_mode": {
    "name": "ipython",
    "version": 2
   },
   "file_extension": ".py",
   "mimetype": "text/x-python",
   "name": "python",
   "nbconvert_exporter": "python",
   "pygments_lexer": "ipython2",
   "version": "2.7.6"
  }
 },
 "nbformat": 4,
 "nbformat_minor": 5
}
